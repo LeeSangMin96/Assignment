{
  "nbformat": 4,
  "nbformat_minor": 0,
  "metadata": {
    "colab": {
      "name": "1주차 과제.ipynb",
      "provenance": [],
      "authorship_tag": "ABX9TyO8cG55rv2dxXIaJQAoiTyr",
      "include_colab_link": true
    },
    "kernelspec": {
      "name": "python3",
      "display_name": "Python 3"
    }
  },
  "cells": [
    {
      "cell_type": "markdown",
      "metadata": {
        "id": "view-in-github",
        "colab_type": "text"
      },
      "source": [
        "<a href=\"https://colab.research.google.com/github/LeeSangMin96/Assignment/blob/master/1%EC%A3%BC%EC%B0%A8_%EA%B3%BC%EC%A0%9C.ipynb\" target=\"_parent\"><img src=\"https://colab.research.google.com/assets/colab-badge.svg\" alt=\"Open In Colab\"/></a>"
      ]
    },
    {
      "cell_type": "markdown",
      "metadata": {
        "id": "hzZrOfRXv0gf",
        "colab_type": "text"
      },
      "source": [
        "## 언어"
      ]
    },
    {
      "cell_type": "markdown",
      "metadata": {
        "id": "H97Smj7Yv0zm",
        "colab_type": "text"
      },
      "source": [
        "우리 일상에서 많이 사용되고 있는 '인공지능 비서','인공지능 친구',  등의 챗봇이  NPL(Natural Language Processing)을 사용한 대표적인 언어분야에 적용된 인공지능 서비스이다.\n"
      ]
    },
    {
      "cell_type": "markdown",
      "metadata": {
        "id": "S3S5XtELv086",
        "colab_type": "text"
      },
      "source": [
        "## 음성"
      ]
    },
    {
      "cell_type": "markdown",
      "metadata": {
        "id": "0lj88LFLv1Fb",
        "colab_type": "text"
      },
      "source": [
        " 우리에게 아주 익숙한 AI 스피커가 대표적인 인공지능이 음성분야에 적용된 예시이다. 뿐만 아니라 자동번역, 음성합성, 음성인식, AI 마이크 등이 있다. 현재 음성합성을 통해 연예인들의 목소리로 뉴스를 듣거나 책을 읽어주는 서비스 등이 시중에 나와있다."
      ]
    },
    {
      "cell_type": "markdown",
      "metadata": {
        "id": "SC4FiFmnv1NI",
        "colab_type": "text"
      },
      "source": [
        "## 이미지"
      ]
    },
    {
      "cell_type": "markdown",
      "metadata": {
        "id": "FZP5QUGAv1S1",
        "colab_type": "text"
      },
      "source": [
        " 이미지를 활용하여 여러분야에 인공지능이 적용이 되고 있는데 그중 AI카메라가 있다. \n",
        " AI 카메라는 사물을 렌즈에 비추면 알아서 사물을 분석해준다. 이외에도 의료 분야,농업분야, 예술 분야까지 이미지를 활용한 computer vision은 아주 다양하게 활용이 된다. 뇌파사진이나 사람의 폐 사진을 보고 질병을 분류하거나 사진을 여러가지로 변형시키거나 합성시켜 사람들에게 유용한 서비스를 제공한다. "
      ]
    },
    {
      "cell_type": "markdown",
      "metadata": {
        "id": "QEFgedVVv1Vt",
        "colab_type": "text"
      },
      "source": [
        "## 자율주행"
      ]
    },
    {
      "cell_type": "markdown",
      "metadata": {
        "id": "7aNZ2d_pv1YA",
        "colab_type": "text"
      },
      "source": [
        "자율주행은 위에서 언급한 컴퓨터 비전 기술을 활용한 기술이다. 자동차와 도시 곳곳에 설치된 센서로 도로 교통 상황을 파악하고 자동차가 스스로 장애물 , 보행자 등을 인식하여 운행하게 한다."
      ]
    },
    {
      "cell_type": "code",
      "metadata": {
        "id": "GcKDMdlv0qO6",
        "colab_type": "code",
        "colab": {}
      },
      "source": [
        ""
      ],
      "execution_count": 0,
      "outputs": []
    }
  ]
}