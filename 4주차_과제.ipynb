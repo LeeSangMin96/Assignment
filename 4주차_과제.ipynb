{
  "nbformat": 4,
  "nbformat_minor": 0,
  "metadata": {
    "colab": {
      "name": "4주차 과제",
      "provenance": [],
      "collapsed_sections": [],
      "include_colab_link": true
    },
    "kernelspec": {
      "name": "python3",
      "display_name": "Python 3"
    }
  },
  "cells": [
    {
      "cell_type": "markdown",
      "metadata": {
        "id": "view-in-github",
        "colab_type": "text"
      },
      "source": [
        "<a href=\"https://colab.research.google.com/github/LeeSangMin96/Assignment/blob/master/4%EC%A3%BC%EC%B0%A8_%EA%B3%BC%EC%A0%9C.ipynb\" target=\"_parent\"><img src=\"https://colab.research.google.com/assets/colab-badge.svg\" alt=\"Open In Colab\"/></a>"
      ]
    },
    {
      "cell_type": "markdown",
      "metadata": {
        "id": "wxkL6PjwsI6L",
        "colab_type": "text"
      },
      "source": [
        "# 4주차 과제\n",
        "- 용어 정리\n",
        "- 딥러닝 강의 클론 코딩\n",
        "- 딥러닝 순전파 & 역전파 계산"
      ]
    },
    {
      "cell_type": "markdown",
      "metadata": {
        "id": "ixEtDe6_uGgI",
        "colab_type": "text"
      },
      "source": [
        "## 1. 용어 정리\n",
        "\n",
        "다음 제시된 단어의 정의(설명)를 정리하여 작성 하세요.\n",
        "\n",
        "* 2문장 이상 작성 해 주세요. \n",
        "* 주제(단어)와 크게 벗어나지만 않는다면 정답처리 됩니다.\n",
        "* 강의 뿐 아니라 기타 레퍼런스를 참고하여 작성하셔도 됩니다. (기타 레퍼런스를 참고하신 경우, 해당 레퍼런스를 정리하여 하단에 작성해 주세요.)\n"
      ]
    },
    {
      "cell_type": "markdown",
      "metadata": {
        "id": "0lfwat8eurKZ",
        "colab_type": "text"
      },
      "source": [
        "__(예시)__\n",
        "### 심층 신경망\n",
        ": 입력층과 출력층 사이에 여러 개의 은닉층들로 이뤄진 인공신경망이다. 심층 신경망은 일반적으로 인공신경망과 마찬가지로 복잡한 비선형 관계들을 모델링 할 수 있다. 신층신경망의 목적은 분류 및 수치예측을 하기 위함이고 이미지 트레이닝이나 문자인식과 같은 분야에서 매우 유용하게 쓰이고 있다."
      ]
    },
    {
      "cell_type": "markdown",
      "metadata": {
        "id": "Y8YJNKG_v65A",
        "colab_type": "text"
      },
      "source": [
        "### MCP 뉴런\n",
        ": <p> 1943년 매컬럭과 월터 피츠가 신경세포를 간단한 바이너리 출력을 갖는 논리 게이트로 설몀한 뇌 세표의 개념이다.\n",
        "각각의 뉴런은 수상돌기를 통해 다른 뉴런에서 입력을 받아 축색 돌기를 통해 다른 뉴런으로 신호를 보낸다.이때, 출력신호는 입력된 신호가 모여서 일정한 용량을 넘어 설 때 발생한다.\n",
        "</p>\n",
        "\n",
        "### 퍼셉트론\n",
        ":<p> 퍼셉트론은 MCP 뉴런들의 집합이다. MCP 논리게이트를 모델로 구현한것으로, 입력과 임계치를 포함한 활성함수, 출력으로 구성된다. 입력값이 활성함수로 입력되며  입력값의 합이 임계치보다 크면 1을 반환한다.</p>\n",
        "\n",
        "### 역전파\n",
        ":<p> 최종 출력값과 실제값의 오차가 최소가 되도록하는 방법이다. 순전파를 통해 도출된 결과값을 통해서 다시 hidden layer와  input layer로 오차를 보내면서 가중치를 재설정하며 오차를 줄여나간다. 이렇게 오차를 점점 거슬러 올라가면서 다시 전파한다.</p>\n",
        "\n",
        "### 강화학습\n",
        ":\n",
        "<p>강화학습은 머신 러닝의 학습 방법 중 하나로 보상이라는 기준에 따라 보상이 최대가 되도록 한다. 에이전트가 환경과 상호작용을 하면서 경험을 통해 학습하게 된다. 에이전트는 환경이 어떤 상태인지 인지 할 수 있어야 하며, 주어진 상태에 따라 행동을 결정하게 된다. 또한 강화학습을 목표가 있어야 한다. </p>\n",
        "\n",
        "### 과적합\n",
        ":<p>과적합은 모델이 학습데이터를 너무 과도하게 잘 학습하는 것이다. 이러한 과적합은 학습데이터에는 성능이 잘 나오지만 실제 데이터에서는 그렇지 않게 된다. 이 것을 방지하기 위해여 가지치기 , dropout , 앙상블 등을 사용하거나, 더 많은 데이터를 수집하도록 한다. </p>\n",
        "\n",
        "### 차원의 저주\n",
        ": <p> 훈련 샘플이 너무나도 많은 특성을 가지고 있을 때, 훈련을 느리게 하고, 최적의 솔루션을 찾기 어렵게 만든다.\n",
        "고차원으로 갈수록 전체 공간에서 데이터가 차지하는 공간이 매우 작아지게 된다. 이를 해결하기 위해 차원을 축소 기법(PCA 등..)을 사용한다.</p>\n"
      ]
    },
    {
      "cell_type": "markdown",
      "metadata": {
        "id": "4bco3aefskBo",
        "colab_type": "text"
      },
      "source": [
        "## 참고한 자료들\n",
        "<li>https://brunch.co.kr/@gdhan/6</li>\n",
        "<li>https://yamerong.tistory.com/43</li>\n",
        "<li>https://sacko.tistory.com/19</li>\n",
        "<li>https://www.slideshare.net/CurtPark1/dqn-reinforcement-learning-from-basics-to-dqn</li>\n",
        "<li>https://m.blog.naver.com/PostView.nhn?blogId=qbxlvnf11&logNo=221323034856&proxyReferer=https:%2F%2Fwww.google.com%2F</li>\n"
      ]
    },
    {
      "cell_type": "markdown",
      "metadata": {
        "id": "d-zfFXLCy6jD",
        "colab_type": "text"
      },
      "source": [
        "## 2. 딥러닝 강의 클론 코딩\n",
        "\n",
        "####__퍼셉트론 구조 구현하기__ \n",
        "딥러닝 강의(__딥러닝 원리[1] 3:15 ~ 5:15 부분__)를 보고 코드를 따라 치며 출력 결과를 만드세요.\n",
        " \n",
        "\n",
        "* 하나의 코드셀에 해당 코드를 한번에 다 적어서 실행해주세요 (__그렇게 하지 않을 경우, 아래 이미지와 같은 출력값이 나오지 않을 수 있습니다__)\n",
        "\n",
        "*__주의!__ 실제로 코딩해서 출력해보면 강의에 나온 출력 결과와 다르게 나옵니다!!\n"
      ]
    },
    {
      "cell_type": "code",
      "metadata": {
        "id": "v7avBnNRVoUL",
        "colab_type": "code",
        "colab": {
          "base_uri": "https://localhost:8080/",
          "height": 35
        },
        "outputId": "4996c314-4f71-46dc-9e1b-16b1246b3e7a"
      },
      "source": [
        "import tensorflow as tf\n",
        "\n",
        "tf.compat.v1.set_random_seed(2020)\n",
        "x=1\n",
        "y=0\n",
        "w=tf.random.normal([1],0,1)\n",
        "\n",
        "import math\n",
        "\n",
        "def sigmoid(x):\n",
        "  return 1/(1+math.exp(-x))\n",
        "\n",
        "output=sigmoid(x*w)\n",
        "print(output)"
      ],
      "execution_count": 1,
      "outputs": [
        {
          "output_type": "stream",
          "text": [
            "0.47477188589261\n"
          ],
          "name": "stdout"
        }
      ]
    },
    {
      "cell_type": "code",
      "metadata": {
        "id": "7uAYpNddVoW3",
        "colab_type": "code",
        "colab": {
          "base_uri": "https://localhost:8080/",
          "height": 197
        },
        "outputId": "b20e63c3-e5ac-4a59-f499-887d392dec4b"
      },
      "source": [
        "for i in range(1000):\n",
        "  output=sigmoid(x*w)\n",
        "  error=y-output\n",
        "  w=w+x*0.1*error\n",
        "\n",
        "  if i%100==99:\n",
        "    print(\"학습 횟수:\",i,\"Error:\",error,\"예측 결과:\",output)"
      ],
      "execution_count": 2,
      "outputs": [
        {
          "output_type": "stream",
          "text": [
            "학습 횟수: 99 Error: -0.10010598284299604 예측 결과: 0.10010598284299604\n",
            "학습 횟수: 199 Error: -0.05178399422833116 예측 결과: 0.05178399422833116\n",
            "학습 횟수: 299 Error: -0.034590451977903586 예측 결과: 0.034590451977903586\n",
            "학습 횟수: 399 Error: -0.02588962752851373 예측 결과: 0.02588962752851373\n",
            "학습 횟수: 499 Error: -0.020658699939863617 예측 결과: 0.020658699939863617\n",
            "학습 횟수: 599 Error: -0.017174253993457355 예측 결과: 0.017174253993457355\n",
            "학습 횟수: 699 Error: -0.014689506449480992 예측 결과: 0.014689506449480992\n",
            "학습 횟수: 799 Error: -0.012829497265431342 예측 결과: 0.012829497265431342\n",
            "학습 횟수: 899 Error: -0.011385568271837804 예측 결과: 0.011385568271837804\n",
            "학습 횟수: 999 Error: -0.010232493309882492 예측 결과: 0.010232493309882492\n"
          ],
          "name": "stdout"
        }
      ]
    },
    {
      "cell_type": "markdown",
      "metadata": {
        "id": "wcc5mzI9oZ7r",
        "colab_type": "text"
      },
      "source": [
        "![대체 텍스트](https://www.notion.so/image/https%3A%2F%2Fs3-us-west-2.amazonaws.com%2Fsecure.notion-static.com%2F0cceeed0-0235-4b0f-af88-0b8c377d5b4b%2F_2020-06-09__9.35.23.png?table=block&id=88fd8912-9356-49a4-9fda-a1a63fe96ea9&width=2870&cache=v2)"
      ]
    },
    {
      "cell_type": "markdown",
      "metadata": {
        "id": "kr0HVRk8fOom",
        "colab_type": "text"
      },
      "source": [
        "## 3. 딥러닝 순전파 & 역전파 계산\n",
        "\n",
        "딥러닝 강의(__딥러닝 원리[2] 0:55 ~ 4:32 부분__)에 나오는 순전파 & 역전파 계산에 대한 문제 입니다.\n",
        "\n",
        "해당 영상과 다음 이미지를 참고하여 다음 2가지 물음에 답하세요.\n",
        "\n",
        "\n",
        "(1) 학습률이 0.2 일 경우 출력층의 노드값\n",
        "\n",
        "(2) 학습률이 0.1과 0.2 중 기대출력값이 지도데이터 \"3\"과 더 가까운 학습률은?"
      ]
    },
    {
      "cell_type": "markdown",
      "metadata": {
        "id": "CpwPFWhOUzww",
        "colab_type": "text"
      },
      "source": [
        "![대체 텍스트](https://www.notion.so/image/https%3A%2F%2Fs3-us-west-2.amazonaws.com%2Fsecure.notion-static.com%2Ff54dfd45-92ec-44ae-9616-6949d2484a45%2F_2020-06-10__5.22.03.png?table=block&id=ee05da89-3ceb-4ad9-a2d3-c9f68d24d1d9&width=3580&cache=v2)"
      ]
    },
    {
      "cell_type": "markdown",
      "metadata": {
        "id": "B2OVY7w5U3CI",
        "colab_type": "text"
      },
      "source": [
        "## (1) 학습률이 0.2 일 경우 출력층의 노드값 : \n",
        "\n",
        "### 1.6\n",
        "\n",
        "\n",
        "## (2) 학습률이 0.1과 0.2 중 기대출력값이 지도데이터 \"3\"과 더 가까운 학습률은? : \n",
        "### 0.1"
      ]
    }
  ]
}